{
 "cells": [
  {
   "cell_type": "code",
   "execution_count": 1,
   "metadata": {},
   "outputs": [
    {
     "name": "stderr",
     "output_type": "stream",
     "text": [
      "2023-10-20 17:25:34.817 WARNING streamlit.runtime.caching.cache_data_api: No runtime found, using MemoryCacheStorageManager\n"
     ]
    }
   ],
   "source": [
    "from utils import *"
   ]
  },
  {
   "cell_type": "code",
   "execution_count": 2,
   "metadata": {},
   "outputs": [],
   "source": [
    "template_pdf = \"Residential Purchase Contract.pdf\"\n",
    "\n",
    "# Create a new PDF to save the modified form\n",
    "output_pdf = \"modified_form.pdf\""
   ]
  },
  {
   "cell_type": "code",
   "execution_count": 3,
   "metadata": {},
   "outputs": [],
   "source": [
    "import fillpdf"
   ]
  },
  {
   "cell_type": "code",
   "execution_count": 4,
   "metadata": {},
   "outputs": [],
   "source": [
    "from fillpdf import fillpdfs"
   ]
  },
  {
   "cell_type": "code",
   "execution_count": 20,
   "metadata": {},
   "outputs": [],
   "source": [
    "dict = {\n",
    "    'Buyer': 'hi',\n",
    "    'Seller': http_output['OwnerName'],\n",
    "    'Property_Address': http_output['UnparsedAddress'],\n",
    "    'City': http_output['City'],\n",
    "    'County': http_output['CountyOrParish'],\n",
    "    'Zip': http_output['PostalCode'],\n",
    "    'legal_desc': '',\n",
    "    'Purchase_Price': '',\n",
    "    'EMD': '',\n",
    "    'COE_MO': '',\n",
    "    'COE_DAY': '',\n",
    "    'COE_YR': ''\n",
    "}"
   ]
  },
  {
   "cell_type": "code",
   "execution_count": 21,
   "metadata": {},
   "outputs": [],
   "source": [
    "fillpdfs.write_fillable_pdf(\"Residential Purchase Contract.pdf\", 'output.pdf', data_dict=dict, flatten=False)\n"
   ]
  }
 ],
 "metadata": {
  "kernelspec": {
   "display_name": "base",
   "language": "python",
   "name": "python3"
  },
  "language_info": {
   "codemirror_mode": {
    "name": "ipython",
    "version": 3
   },
   "file_extension": ".py",
   "mimetype": "text/x-python",
   "name": "python",
   "nbconvert_exporter": "python",
   "pygments_lexer": "ipython3",
   "version": "3.9.17"
  },
  "orig_nbformat": 4
 },
 "nbformat": 4,
 "nbformat_minor": 2
}
